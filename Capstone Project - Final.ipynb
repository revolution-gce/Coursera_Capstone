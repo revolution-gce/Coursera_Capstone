{
    "cells": [
        {
            "cell_type": "markdown",
            "metadata": {
                "collapsed": true
            },
            "source": "# # # Determining a expensive, normal & cheap neighbourhood in a City"
        },
        {
            "cell_type": "markdown",
            "metadata": {},
            "source": "## Problem Statement"
        },
        {
            "cell_type": "markdown",
            "metadata": {},
            "source": "**Objective:**\nTo create a view of expensive, normal & cheap cluster of neighbourhood in a city for a new comer to help inhabit the right part of the city.\n\n**Users:**\nAny new comer to a city who is trying to start a livelihood in the city.\n\n**Background:**\nEvery year as cities start to boom with more development and wealth, there is a lot of new population which ventures into the city for the below reasons.\n1. Better Jobs\n2. Education\n3. New Ventures\n4. Better livelihood\n5. Getting Married to a spouse who lives here\n\nWhen this population moves to the city, there is very little information available to these people to understand which part of the city should they inhabit. While there is a broad description of what kind of areas suit each of the groups of the population, it is pure hearsay with very less data backing it.\nMore importantly, not everybody has the wherewithal to do the necessary research and analysis to understand the different dynamics of the city and nature of neighbourhood in the city.\nWrong decisions at this point will result in moving to a wrong place resulting in movement to a another part later if dissatisfied resulting in financial and mental loss.\n\n\nThis exercise should deliver a clear mapping of neighbourhoods and their characteristics helping the above users to make the right decision.\n"
        },
        {
            "cell_type": "markdown",
            "metadata": {},
            "source": "## Data"
        },
        {
            "cell_type": "markdown",
            "metadata": {},
            "source": "**Datasets used**\n1. India, Pincode wise data mapping city,division & Lat Long data from MapmyIndia\n2. Foursquare data\n\n**Dataset Structure\n1. Data Scraping for Lat long - The Mapmyindia data will be scraped to arrive at the below fields.\na. Pincode\nb. City\nc. Locality\nd. State\ne. Latitude\nf. Longitude\n\n2. Four Square data - to arrive at the details of the venue in the neighbourhood by fetching the beloe details.\na. Neighborhood\nb. Neighborhood Latitude \nc. Neighborhood Longitude\nd. Venue\ne. Venue Latitude\nf. Venue Longitude\ng. Venue Category\n\nAssumption / Hypothesis\nA neighbourhood will have a select kind of venues basis the kind of people who live there. The venue categories will automatically adjust to the kind of the people who live there.\nFor eg. A bar, wine store,gym,spa etc may not be located in a cheap neighbourhood. Similarly, local restaurants may not be crowded in a expensive neighbourhood & parks, public spaces \nmay be restricted to cheap neighbourhoods.\nHence, the exercise will aim to cluster the category of venues in the each of the neighbourhoods in the city and understand the kind of neighbourhood.\n\nData Analysis method.\n1. For Lat Long available in the dataset 1 for a select city, the neighbourhood details will be fetched in the dataset 2.\n2. For every neighbourhood, the mean occurrence of a venue category will be calculated.\n3. Using atleast 3 clustering methods, cluster the dataset, predict the Cluster.\n4. Basis empirical data, map select localities to the cluster they might belong to.\n5. Measure the accuracy of the model by comparing the results of the clustering to the empirical data.\n"
        }
    ],
    "metadata": {
        "kernelspec": {
            "display_name": "Python 3.6",
            "language": "python",
            "name": "python3"
        },
        "language_info": {
            "codemirror_mode": {
                "name": "ipython",
                "version": 3
            },
            "file_extension": ".py",
            "mimetype": "text/x-python",
            "name": "python",
            "nbconvert_exporter": "python",
            "pygments_lexer": "ipython3",
            "version": "3.6.9"
        }
    },
    "nbformat": 4,
    "nbformat_minor": 1
}